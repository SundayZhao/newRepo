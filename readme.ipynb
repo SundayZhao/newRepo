{
 "cells": [
  {
   "cell_type": "code",
   "execution_count": null,
   "id": "ee47bdc2-6aaf-4a97-9c75-f5426507fb5b",
   "metadata": {},
   "outputs": [],
   "source": [
    "\"\"\"\n",
    "预测结果位于./data/decode\n",
    "\"\"\""
   ]
  },
  {
   "cell_type": "code",
   "execution_count": null,
   "id": "d2f3005c-9730-4b75-a4e5-f643aaf07fae",
   "metadata": {},
   "outputs": [],
   "source": [
    "\"\"\"\n",
    "安装依赖包\n",
    "pip install -r requirement.txt\n",
    "\"\"\""
   ]
  },
  {
   "cell_type": "code",
   "execution_count": null,
   "id": "a5ed50bd",
   "metadata": {},
   "outputs": [],
   "source": [
    "!pip install ./transformersmodel\n",
    "!pip install evaluate\n",
    "!pip install datasets\n",
    "!pip install Numpy\n",
    "!pip install Scipy\n",
    "!pip install matplotlib\n",
    "!pip install sklearn\n",
    "!pip install scikit-learn\n",
    "!pip install tensorboardX"
   ]
  },
  {
   "cell_type": "code",
   "execution_count": null,
   "id": "2d30888d-8b82-40b4-8cab-31cf07155fcb",
   "metadata": {},
   "outputs": [],
   "source": [
    "\"\"\"\n",
    "数据集标签生成\n",
    "必须指定生成的数据集是train / dev /test\n",
    "原数据集需要放在tag.py同目录下\n",
    "{}.buggy-fixed.buggy\n",
    "{}.buggy-fixed.fixed\n",
    "\n",
    "生成结果在./datageb/data内\n",
    "\"\"\""
   ]
  },
  {
   "cell_type": "code",
   "execution_count": null,
   "id": "cfd65502-d46c-4daa-b5fd-211375d79647",
   "metadata": {},
   "outputs": [],
   "source": [
    "!cd ./datagen\n",
    "!python tag.py type train"
   ]
  },
  {
   "cell_type": "code",
   "execution_count": null,
   "id": "c1d521e4-65cf-42da-b5f6-d0c7979bf0f5",
   "metadata": {},
   "outputs": [],
   "source": [
    "\"\"\"\n",
    "按照seq2seq方式预训练codebert和codegpt，包含cross_attention\n",
    "按照pretrain.py内的要求准备\n",
    "#训练集文件位置\n",
    "train_buggy_file='train.buggy-fixed.buggy'\n",
    "train_fixed_file='train.buggy-fixed.fixed'\n",
    "预训练完成后，模型保存在\n",
    "codebert_weight_path='codebert'\n",
    "codegpt_weight_path='codegpt'\n",
    "修改默认DataCollatorForSeq2Seq，以支持mask和whole word mask\n",
    "\"\"\""
   ]
  },
  {
   "cell_type": "code",
   "execution_count": null,
   "id": "d816ad6c-2d58-481d-b842-5a224a3dbdad",
   "metadata": {},
   "outputs": [],
   "source": [
    "!python pretrain.py"
   ]
  },
  {
   "cell_type": "code",
   "execution_count": null,
   "id": "588f7ac2-b89d-44a3-b75c-0015b69a8951",
   "metadata": {},
   "outputs": [],
   "source": [
    "\"\"\"\n",
    "微调\n",
    "将由tag.py生成的包含train等在内的data文件夹拷贝至run.py同目录下\n",
    "运行run.py进行微调/预训练\n",
    "每个epoch/5000步都会保存检查点到./data/model\n",
    "\"\"\""
   ]
  },
  {
   "cell_type": "code",
   "execution_count": null,
   "id": "d0242b67-fe22-45ee-97f4-d731f86fc3ec",
   "metadata": {},
   "outputs": [],
   "source": [
    "!python run.py --do_train --bs 4 --epoch 80"
   ]
  },
  {
   "cell_type": "code",
   "execution_count": null,
   "id": "9ecb7351-9bb1-42c8-b1c2-e8e1940f375c",
   "metadata": {},
   "outputs": [],
   "source": [
    "\"\"\"\n",
    "预测\n",
    "使用参数--load_model_path指定检查点\n",
    "预测结果存放于\n",
    "./data/decode\n",
    "\"\"\""
   ]
  },
  {
   "cell_type": "code",
   "execution_count": null,
   "id": "fc2947ab-ae65-449f-a680-efc71284a2be",
   "metadata": {},
   "outputs": [],
   "source": [
    "!python run.py --do_test --load_model_path word-fea-batch-161500.pt"
   ]
  },
  {
   "cell_type": "code",
   "execution_count": null,
   "id": "b2d1c2de-2740-4e47-b4f2-8b3530412e60",
   "metadata": {},
   "outputs": [],
   "source": [
    "\"\"\"\n",
    "准确率评估\n",
    "\"\"\""
   ]
  },
  {
   "cell_type": "code",
   "execution_count": null,
   "id": "5b51ae1d-4bfd-4558-9846-2539974a6899",
   "metadata": {},
   "outputs": [],
   "source": [
    "!python eval_acc.py"
   ]
  }
 ],
 "metadata": {
  "kernelspec": {
   "display_name": "Python 3 (ipykernel)",
   "language": "python",
   "name": "python3"
  },
  "language_info": {
   "codemirror_mode": {
    "name": "ipython",
    "version": 3
   },
   "file_extension": ".py",
   "mimetype": "text/x-python",
   "name": "python",
   "nbconvert_exporter": "python",
   "pygments_lexer": "ipython3",
   "version": "3.8.11"
  }
 },
 "nbformat": 4,
 "nbformat_minor": 5
}
